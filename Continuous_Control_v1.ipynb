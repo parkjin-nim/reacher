{
 "cells": [
  {
   "cell_type": "markdown",
   "metadata": {},
   "source": [
    "# Continuous Control\n",
    "\n",
    "---\n",
    "\n",
    "You are welcome to use this coding environment to train your agent for the project.  Follow the instructions below to get started!\n",
    "\n",
    "### 1. Start the Environment\n",
    "\n",
    "Run the next code cell to install a few packages.  This line will take a few minutes to run!"
   ]
  },
  {
   "cell_type": "code",
   "execution_count": null,
   "metadata": {},
   "outputs": [],
   "source": [
    "!pip -q install ./python"
   ]
  },
  {
   "cell_type": "markdown",
   "metadata": {},
   "source": [
    "The environments corresponding to both versions of the environment are already saved in the Workspace and can be accessed at the file paths provided below.  \n",
    "\n",
    "Please select one of the two options below for loading the environment."
   ]
  },
  {
   "cell_type": "code",
   "execution_count": null,
   "metadata": {},
   "outputs": [],
   "source": [
    "from unityagents import UnityEnvironment\n",
    "import numpy as np\n",
    "\n",
    "# select this option to load version 1 (with a single agent) of the environment\n",
    "#env = UnityEnvironment(file_name='/data/Reacher_One_Linux_NoVis/Reacher_One_Linux_NoVis.x86_64')\n",
    "env = UnityEnvironment(file_name='../../Reacher_v1.app')\n",
    "\n",
    "# select this option to load version 2 (with 20 agents) of the environment\n",
    "#env = UnityEnvironment(file_name='/data/Reacher_Linux_NoVis/Reacher.x86_64')"
   ]
  },
  {
   "cell_type": "markdown",
   "metadata": {},
   "source": [
    "Environments contain **_brains_** which are responsible for deciding the actions of their associated agents. Here we check for the first brain available, and set it as the default brain we will be controlling from Python."
   ]
  },
  {
   "cell_type": "code",
   "execution_count": 2,
   "metadata": {},
   "outputs": [],
   "source": [
    "# get the default brain\n",
    "brain_name = env.brain_names[0]\n",
    "brain = env.brains[brain_name]"
   ]
  },
  {
   "cell_type": "markdown",
   "metadata": {},
   "source": [
    "### 2. Examine the State and Action Spaces\n",
    "\n",
    "Run the code cell below to print some information about the environment."
   ]
  },
  {
   "cell_type": "code",
   "execution_count": 3,
   "metadata": {},
   "outputs": [
    {
     "name": "stdout",
     "output_type": "stream",
     "text": [
      "Number of agents: 1\n",
      "Size of each action: 4\n",
      "There are 1 agents. Each observes a state with length: 33\n",
      "The state for the first agent looks like: [ 0.00000000e+00 -4.00000000e+00  0.00000000e+00  1.00000000e+00\n",
      " -0.00000000e+00 -0.00000000e+00 -4.37113883e-08  0.00000000e+00\n",
      "  0.00000000e+00  0.00000000e+00  0.00000000e+00  0.00000000e+00\n",
      "  0.00000000e+00  0.00000000e+00 -1.00000000e+01  0.00000000e+00\n",
      "  1.00000000e+00 -0.00000000e+00 -0.00000000e+00 -4.37113883e-08\n",
      "  0.00000000e+00  0.00000000e+00  0.00000000e+00  0.00000000e+00\n",
      "  0.00000000e+00  0.00000000e+00  5.75471878e+00 -1.00000000e+00\n",
      "  5.55726671e+00  0.00000000e+00  1.00000000e+00  0.00000000e+00\n",
      " -1.68164849e-01]\n"
     ]
    }
   ],
   "source": [
    "# reset the environment\n",
    "env_info = env.reset(train_mode=True)[brain_name]\n",
    "\n",
    "# number of agents\n",
    "num_agents = len(env_info.agents)\n",
    "print('Number of agents:', num_agents)\n",
    "\n",
    "# size of each action\n",
    "action_size = brain.vector_action_space_size\n",
    "print('Size of each action:', action_size)\n",
    "\n",
    "# examine the state space \n",
    "states = env_info.vector_observations\n",
    "state_size = states.shape[1]\n",
    "print('There are {} agents. Each observes a state with length: {}'.format(states.shape[0], state_size))\n",
    "print('The state for the first agent looks like:', states[0])"
   ]
  },
  {
   "cell_type": "markdown",
   "metadata": {},
   "source": [
    "### 3. Take Random Actions in the Environment\n",
    "\n",
    "In the next code cell, you will learn how to use the Python API to control the agent and receive feedback from the environment.\n",
    "\n",
    "Note that **in this coding environment, you will not be able to watch the agents while they are training**, and you should set `train_mode=True` to restart the environment."
   ]
  },
  {
   "cell_type": "markdown",
   "metadata": {},
   "source": [
    "env_info = env.reset(train_mode=True)[brain_name]      # reset the environment    \n",
    "states = env_info.vector_observations                  # get the current state (for each agent)\n",
    "scores = np.zeros(num_agents)                          # initialize the score (for each agent)\n",
    "while True:\n",
    "    actions = np.random.randn(num_agents, action_size) # select an action (for each agent)\n",
    "    actions = np.clip(actions, -1, 1)                  # all actions between -1 and 1\n",
    "    env_info = env.step(actions)[brain_name]           # send all actions to tne environment\n",
    "    next_states = env_info.vector_observations         # get next state (for each agent)\n",
    "    rewards = env_info.rewards                         # get reward (for each agent)\n",
    "    dones = env_info.local_done                        # see if episode finished\n",
    "    scores += env_info.rewards                         # update the score (for each agent)\n",
    "    states = next_states                               # roll over states to next time step\n",
    "    if np.any(dones):                                  # exit loop if episode finished\n",
    "        break\n",
    "print('Total score (averaged over agents) this episode: {}'.format(np.mean(scores)))"
   ]
  },
  {
   "cell_type": "markdown",
   "metadata": {},
   "source": [
    "When finished, you can close the environment."
   ]
  },
  {
   "cell_type": "code",
   "execution_count": null,
   "metadata": {},
   "outputs": [],
   "source": [
    "env.close()"
   ]
  },
  {
   "cell_type": "markdown",
   "metadata": {},
   "source": [
    "### 4. It's Your Turn!\n",
    "\n",
    "Now it's your turn to train your own agent to solve the environment!  A few **important notes**:\n",
    "- When training the environment, set `train_mode=True`, so that the line for resetting the environment looks like the following:\n",
    "```python\n",
    "env_info = env.reset(train_mode=True)[brain_name]\n",
    "```\n",
    "- To structure your work, you're welcome to work directly in this Jupyter notebook, or you might like to start over with a new file!  You can see the list of files in the workspace by clicking on **_Jupyter_** in the top left corner of the notebook.\n",
    "- In this coding environment, you will not be able to watch the agents while they are training.  However, **_after training the agents_**, you can download the saved model weights to watch the agents on your own machine! "
   ]
  },
  {
   "cell_type": "markdown",
   "metadata": {},
   "source": [
    "### Training a ddpg agent"
   ]
  },
  {
   "cell_type": "code",
   "execution_count": 4,
   "metadata": {},
   "outputs": [],
   "source": [
    "import numpy as np\n",
    "import random\n",
    "import copy\n",
    "from collections import namedtuple, deque\n",
    "\n",
    "import torch\n",
    "import torch.nn as nn\n",
    "import torch.nn.functional as F\n",
    "import torch.optim as optim\n",
    "from model import Actor, Critic\n",
    "from ddpg_agent import Agent\n",
    "\n",
    "# for MAC os\n",
    "import os\n",
    "os.environ['KMP_DUPLICATE_LIB_OK']='True'\n",
    "use_cuda = torch.cuda.is_available()\n",
    "device   = torch.device(\"cuda\" if use_cuda else \"cpu\")\n",
    "use_cuda"
   ]
  },
  {
   "cell_type": "code",
   "execution_count": 5,
   "metadata": {},
   "outputs": [],
   "source": [
    "agent = Agent(state_size=state_size, action_size=action_size, random_seed=10)"
   ]
  },
  {
   "cell_type": "code",
   "execution_count": 6,
   "metadata": {},
   "outputs": [],
   "source": [
    "def ddpg(n_episodes=1000, max_t=10000):\n",
    "    \"\"\"DDQN Algorithm.\n",
    "    \n",
    "    Params\n",
    "    ======\n",
    "        n_episodes (int): maximum number of training episodes\n",
    "        max_t (int): maximum number of timesteps per episode\n",
    "        print_every (int): frequency of printing information throughout iteration \"\"\"\n",
    "    \n",
    "    scores = []\n",
    "    scores_deque = deque(maxlen=100)\n",
    "    \n",
    "    for i_episode in range(1, n_episodes+1):\n",
    "        env_info = env.reset(train_mode=True)[brain_name]\n",
    "        agent.reset()\n",
    "        state = env_info.vector_observations[0]            \n",
    "        score = 0\n",
    "        \n",
    "        for t in range(max_t):\n",
    "            action = agent.act(state)          \n",
    "       \n",
    "            env_info = env.step(action)[brain_name]        \n",
    "            next_state = env_info.vector_observations[0]   \n",
    "            reward = env_info.rewards[0]                  \n",
    "            done = env_info.local_done[0]                  \n",
    "            agent.step(state, action, reward, next_state, done) \n",
    "            score += reward                                \n",
    "            state = next_state                             \n",
    "            if done:                                      \n",
    "                break\n",
    "        \n",
    "        scores_deque.append(score)       \n",
    "        scores.append(score)             \n",
    "        \n",
    "        print('\\rEpisode {}\\tAverage Score: {:.2f}'.format(i_episode, np.mean(scores_deque)))\n",
    "        \n",
    "        if np.mean(scores_deque)>=30.0:\n",
    "            print('\\nEnvironment solved in {:d} Episodes \\tAverage Score: {:.2f}'.format(i_episode, np.mean(scores_deque)))\n",
    "            torch.save(agent.actor_local.state_dict(), 'checkpoint_actor_v1_cpu.pth')\n",
    "            torch.save(agent.critic_local.state_dict(), 'checkpoint_critic_v1_cpu.pth')\n",
    "            break\n",
    "            \n",
    "    return scores"
   ]
  },
  {
   "cell_type": "code",
   "execution_count": 7,
   "metadata": {},
   "outputs": [
    {
     "name": "stdout",
     "output_type": "stream",
     "text": [
      "Episode 1\tAverage Score: 0.64\n",
      "Episode 2\tAverage Score: 1.06\n",
      "Episode 3\tAverage Score: 0.74\n",
      "Episode 4\tAverage Score: 0.68\n",
      "Episode 5\tAverage Score: 0.61\n",
      "Episode 6\tAverage Score: 0.66\n",
      "Episode 7\tAverage Score: 0.63\n",
      "Episode 8\tAverage Score: 0.63\n",
      "Episode 9\tAverage Score: 0.63\n",
      "Episode 10\tAverage Score: 0.62\n",
      "Episode 11\tAverage Score: 0.61\n",
      "Episode 12\tAverage Score: 0.61\n",
      "Episode 13\tAverage Score: 0.63\n",
      "Episode 14\tAverage Score: 0.62\n",
      "Episode 15\tAverage Score: 0.75\n",
      "Episode 16\tAverage Score: 0.77\n",
      "Episode 17\tAverage Score: 0.83\n",
      "Episode 18\tAverage Score: 0.89\n",
      "Episode 19\tAverage Score: 0.98\n",
      "Episode 20\tAverage Score: 0.99\n",
      "Episode 21\tAverage Score: 0.98\n",
      "Episode 22\tAverage Score: 1.07\n",
      "Episode 23\tAverage Score: 1.06\n",
      "Episode 24\tAverage Score: 1.12\n",
      "Episode 25\tAverage Score: 1.12\n",
      "Episode 26\tAverage Score: 1.25\n",
      "Episode 27\tAverage Score: 1.23\n",
      "Episode 28\tAverage Score: 1.30\n",
      "Episode 29\tAverage Score: 1.34\n",
      "Episode 30\tAverage Score: 1.40\n",
      "Episode 31\tAverage Score: 1.40\n",
      "Episode 32\tAverage Score: 1.39\n",
      "Episode 33\tAverage Score: 1.50\n",
      "Episode 34\tAverage Score: 1.47\n",
      "Episode 35\tAverage Score: 1.51\n",
      "Episode 36\tAverage Score: 1.55\n",
      "Episode 37\tAverage Score: 1.55\n",
      "Episode 38\tAverage Score: 1.66\n",
      "Episode 39\tAverage Score: 1.71\n",
      "Episode 40\tAverage Score: 1.78\n",
      "Episode 41\tAverage Score: 1.81\n",
      "Episode 42\tAverage Score: 1.86\n",
      "Episode 43\tAverage Score: 1.91\n",
      "Episode 44\tAverage Score: 1.97\n",
      "Episode 45\tAverage Score: 2.06\n",
      "Episode 46\tAverage Score: 2.11\n",
      "Episode 47\tAverage Score: 2.18\n",
      "Episode 48\tAverage Score: 2.26\n",
      "Episode 49\tAverage Score: 2.33\n",
      "Episode 50\tAverage Score: 2.37\n",
      "Episode 51\tAverage Score: 2.47\n",
      "Episode 52\tAverage Score: 2.53\n",
      "Episode 53\tAverage Score: 2.58\n",
      "Episode 54\tAverage Score: 2.65\n",
      "Episode 55\tAverage Score: 2.70\n",
      "Episode 56\tAverage Score: 2.75\n",
      "Episode 57\tAverage Score: 2.89\n",
      "Episode 58\tAverage Score: 2.93\n",
      "Episode 59\tAverage Score: 2.95\n",
      "Episode 60\tAverage Score: 2.98\n",
      "Episode 61\tAverage Score: 3.08\n",
      "Episode 62\tAverage Score: 3.13\n",
      "Episode 63\tAverage Score: 3.21\n",
      "Episode 64\tAverage Score: 3.24\n",
      "Episode 65\tAverage Score: 3.31\n",
      "Episode 66\tAverage Score: 3.37\n",
      "Episode 67\tAverage Score: 3.36\n",
      "Episode 68\tAverage Score: 3.38\n",
      "Episode 69\tAverage Score: 3.51\n",
      "Episode 70\tAverage Score: 3.61\n",
      "Episode 71\tAverage Score: 3.72\n",
      "Episode 72\tAverage Score: 3.71\n",
      "Episode 73\tAverage Score: 3.79\n",
      "Episode 74\tAverage Score: 3.81\n",
      "Episode 75\tAverage Score: 3.82\n",
      "Episode 76\tAverage Score: 3.93\n",
      "Episode 77\tAverage Score: 3.98\n",
      "Episode 78\tAverage Score: 4.01\n",
      "Episode 79\tAverage Score: 4.06\n",
      "Episode 80\tAverage Score: 4.11\n",
      "Episode 81\tAverage Score: 4.12\n",
      "Episode 82\tAverage Score: 4.16\n",
      "Episode 83\tAverage Score: 4.18\n",
      "Episode 84\tAverage Score: 4.31\n",
      "Episode 85\tAverage Score: 4.34\n",
      "Episode 86\tAverage Score: 4.40\n",
      "Episode 87\tAverage Score: 4.44\n",
      "Episode 88\tAverage Score: 4.46\n",
      "Episode 89\tAverage Score: 4.47\n",
      "Episode 90\tAverage Score: 4.54\n",
      "Episode 91\tAverage Score: 4.61\n",
      "Episode 92\tAverage Score: 4.67\n",
      "Episode 93\tAverage Score: 4.74\n",
      "Episode 94\tAverage Score: 4.76\n",
      "Episode 95\tAverage Score: 4.78\n",
      "Episode 96\tAverage Score: 4.87\n",
      "Episode 97\tAverage Score: 4.92\n",
      "Episode 98\tAverage Score: 5.01\n",
      "Episode 99\tAverage Score: 5.07\n",
      "Episode 100\tAverage Score: 5.11\n",
      "Episode 101\tAverage Score: 5.26\n",
      "Episode 102\tAverage Score: 5.41\n",
      "Episode 103\tAverage Score: 5.51\n",
      "Episode 104\tAverage Score: 5.60\n",
      "Episode 105\tAverage Score: 5.67\n",
      "Episode 106\tAverage Score: 5.78\n",
      "Episode 107\tAverage Score: 5.94\n",
      "Episode 108\tAverage Score: 6.02\n",
      "Episode 109\tAverage Score: 6.08\n",
      "Episode 110\tAverage Score: 6.22\n",
      "Episode 111\tAverage Score: 6.32\n",
      "Episode 112\tAverage Score: 6.42\n",
      "Episode 113\tAverage Score: 6.50\n",
      "Episode 114\tAverage Score: 6.59\n",
      "Episode 115\tAverage Score: 6.71\n",
      "Episode 116\tAverage Score: 6.79\n",
      "Episode 117\tAverage Score: 6.92\n",
      "Episode 118\tAverage Score: 7.00\n",
      "Episode 119\tAverage Score: 7.20\n",
      "Episode 120\tAverage Score: 7.34\n",
      "Episode 121\tAverage Score: 7.48\n",
      "Episode 122\tAverage Score: 7.68\n",
      "Episode 123\tAverage Score: 7.77\n",
      "Episode 124\tAverage Score: 7.88\n",
      "Episode 125\tAverage Score: 8.06\n",
      "Episode 126\tAverage Score: 8.35\n",
      "Episode 127\tAverage Score: 8.59\n",
      "Episode 128\tAverage Score: 8.91\n",
      "Episode 129\tAverage Score: 9.04\n",
      "Episode 130\tAverage Score: 9.08\n",
      "Episode 131\tAverage Score: 9.29\n",
      "Episode 132\tAverage Score: 9.37\n",
      "Episode 133\tAverage Score: 9.57\n",
      "Episode 134\tAverage Score: 9.83\n",
      "Episode 135\tAverage Score: 10.17\n",
      "Episode 136\tAverage Score: 10.52\n",
      "Episode 137\tAverage Score: 10.85\n",
      "Episode 138\tAverage Score: 11.08\n",
      "Episode 139\tAverage Score: 11.38\n",
      "Episode 140\tAverage Score: 11.70\n",
      "Episode 141\tAverage Score: 12.01\n",
      "Episode 142\tAverage Score: 12.20\n",
      "Episode 143\tAverage Score: 12.55\n",
      "Episode 144\tAverage Score: 12.87\n",
      "Episode 145\tAverage Score: 13.09\n",
      "Episode 146\tAverage Score: 13.43\n",
      "Episode 147\tAverage Score: 13.68\n",
      "Episode 148\tAverage Score: 13.99\n",
      "Episode 149\tAverage Score: 14.31\n",
      "Episode 150\tAverage Score: 14.66\n",
      "Episode 151\tAverage Score: 14.94\n",
      "Episode 152\tAverage Score: 15.25\n",
      "Episode 153\tAverage Score: 15.57\n",
      "Episode 154\tAverage Score: 15.86\n",
      "Episode 155\tAverage Score: 16.15\n",
      "Episode 156\tAverage Score: 16.18\n",
      "Episode 157\tAverage Score: 16.39\n",
      "Episode 158\tAverage Score: 16.64\n",
      "Episode 159\tAverage Score: 17.00\n",
      "Episode 160\tAverage Score: 17.25\n",
      "Episode 161\tAverage Score: 17.43\n",
      "Episode 162\tAverage Score: 17.71\n",
      "Episode 163\tAverage Score: 17.95\n",
      "Episode 164\tAverage Score: 18.20\n",
      "Episode 165\tAverage Score: 18.52\n",
      "Episode 166\tAverage Score: 18.77\n",
      "Episode 167\tAverage Score: 19.13\n",
      "Episode 168\tAverage Score: 19.48\n",
      "Episode 169\tAverage Score: 19.75\n",
      "Episode 170\tAverage Score: 19.96\n",
      "Episode 171\tAverage Score: 20.24\n",
      "Episode 172\tAverage Score: 20.58\n",
      "Episode 173\tAverage Score: 20.88\n",
      "Episode 174\tAverage Score: 20.99\n",
      "Episode 175\tAverage Score: 21.34\n",
      "Episode 176\tAverage Score: 21.41\n",
      "Episode 177\tAverage Score: 21.55\n",
      "Episode 178\tAverage Score: 21.63\n",
      "Episode 179\tAverage Score: 21.73\n",
      "Episode 180\tAverage Score: 22.02\n",
      "Episode 181\tAverage Score: 22.37\n",
      "Episode 182\tAverage Score: 22.68\n",
      "Episode 183\tAverage Score: 22.90\n",
      "Episode 184\tAverage Score: 23.12\n",
      "Episode 185\tAverage Score: 23.42\n",
      "Episode 186\tAverage Score: 23.66\n",
      "Episode 187\tAverage Score: 23.95\n",
      "Episode 188\tAverage Score: 24.26\n",
      "Episode 189\tAverage Score: 24.58\n",
      "Episode 190\tAverage Score: 24.85\n",
      "Episode 191\tAverage Score: 25.06\n",
      "Episode 192\tAverage Score: 25.34\n",
      "Episode 193\tAverage Score: 25.51\n",
      "Episode 194\tAverage Score: 25.79\n",
      "Episode 195\tAverage Score: 26.03\n",
      "Episode 196\tAverage Score: 26.23\n",
      "Episode 197\tAverage Score: 26.50\n",
      "Episode 198\tAverage Score: 26.62\n",
      "Episode 199\tAverage Score: 26.86\n",
      "Episode 200\tAverage Score: 27.08\n",
      "Episode 201\tAverage Score: 27.28\n",
      "Episode 202\tAverage Score: 27.47\n",
      "Episode 203\tAverage Score: 27.56\n",
      "Episode 204\tAverage Score: 27.82\n",
      "Episode 205\tAverage Score: 28.10\n",
      "Episode 206\tAverage Score: 28.35\n",
      "Episode 207\tAverage Score: 28.51\n",
      "Episode 208\tAverage Score: 28.68\n",
      "Episode 209\tAverage Score: 28.93\n",
      "Episode 210\tAverage Score: 29.02\n",
      "Episode 211\tAverage Score: 29.23\n",
      "Episode 212\tAverage Score: 29.47\n",
      "Episode 213\tAverage Score: 29.67\n",
      "Episode 214\tAverage Score: 29.92\n",
      "Episode 215\tAverage Score: 30.05\n",
      "\n",
      "Environment solved in 215 Episodes \tAverage Score: 30.05\n"
     ]
    }
   ],
   "source": [
    "scores = ddpg(n_episodes = 500)"
   ]
  },
  {
   "cell_type": "code",
   "execution_count": 9,
   "metadata": {},
   "outputs": [
    {
     "data": {
      "image/png": "[encoded data removed]",
      "text/plain": [
       "<Figure size 432x288 with 1 Axes>"
      ]
     },
     "metadata": {
      "needs_background": "light"
     },
     "output_type": "display_data"
    }
   ],
   "source": [
    "import matplotlib.pyplot as plt\n",
    "%matplotlib inline\n",
    "\n",
    "fig = plt.figure()\n",
    "ax = fig.add_subplot(111)\n",
    "plt.plot(np.arange(1, len(scores)+1), scores)\n",
    "plt.ylabel('Scores')\n",
    "plt.xlabel('Episode #')\n",
    "plt.show()"
   ]
  },
  {
   "cell_type": "markdown",
   "metadata": {},
   "source": [
    "### Testing ddpg agent "
   ]
  },
  {
   "cell_type": "code",
   "execution_count": 10,
   "metadata": {},
   "outputs": [
    {
     "data": {
      "text/plain": [
       "<All keys matched successfully>"
      ]
     },
     "execution_count": 10,
     "metadata": {},
     "output_type": "execute_result"
    }
   ],
   "source": [
    "agent = Agent(state_size=state_size, action_size=action_size, random_seed=10)\n",
    "agent.actor_local.load_state_dict(torch.load('checkpoint_actor_v1_cpu.pth'))"
   ]
  },
  {
   "cell_type": "code",
   "execution_count": 12,
   "metadata": {},
   "outputs": [
    {
     "name": "stdout",
     "output_type": "stream",
     "text": [
      "Total score (averaged over agents) this episode: 39.409999119117856\n"
     ]
    }
   ],
   "source": [
    "env_info = env.reset(train_mode=False)[brain_name]      # reset the environment    \n",
    "states = env_info.vector_observations                  # get the current state (for each agent)\n",
    "scores = np.zeros(num_agents)                          # initialize the score (for each agent)\n",
    "agent.reset()\n",
    "\n",
    "while True:\n",
    "\n",
    "    actions = agent.act(states)                        # get actions from actor\n",
    "    \n",
    "    env_info = env.step(actions)[brain_name]           # send all actions to tne environment\n",
    "    next_states = env_info.vector_observations         # get next state (for each agent)\n",
    "    rewards = env_info.rewards                         # get reward (for each agent)\n",
    "    dones = env_info.local_done                        # see if episode finished\n",
    "    scores += env_info.rewards                         # update the score (for each agent)\n",
    "    states = next_states                               # roll over states to next time step\n",
    "    if np.any(dones):                                  # exit loop if episode finished\n",
    "        break\n",
    "print('Total score (averaged over agents) this episode: {}'.format(np.mean(scores)))"
   ]
  },
  {
   "cell_type": "code",
   "execution_count": 13,
   "metadata": {},
   "outputs": [],
   "source": [
    "env.close()"
   ]
  },
  {
   "cell_type": "code",
   "execution_count": null,
   "metadata": {},
   "outputs": [],
   "source": []
  }
 ],
 "metadata": {
  "kernelspec": {
   "display_name": "Python 3",
   "language": "python",
   "name": "python3"
  },
  "language_info": {
   "codemirror_mode": {
    "name": "ipython",
    "version": 3
   },
   "file_extension": ".py",
   "mimetype": "text/x-python",
   "name": "python",
   "nbconvert_exporter": "python",
   "pygments_lexer": "ipython3",
   "version": "3.6.12"
  }
 },
 "nbformat": 4,
 "nbformat_minor": 2
}
